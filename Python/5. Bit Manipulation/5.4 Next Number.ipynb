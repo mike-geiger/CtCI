{
 "cells": [
  {
   "cell_type": "code",
   "execution_count": 5,
   "metadata": {
    "collapsed": true
   },
   "outputs": [],
   "source": [
    "def nextNumber(num):\n",
    "    i = 1\n",
    "    while i & num == 0:\n",
    "        i <<= 1\n",
    "    \n",
    "    i <<= 1\n",
    "    rmask = 0\n",
    "    \n",
    "    while i & num > 1:\n",
    "        i <<= 1\n",
    "        rmask <<= 1 \n",
    "        rmask |= 1\n",
    "    \n",
    "    print(bin(num))\n",
    "    nextNum = num | i # set first non trailing 0\n",
    "    print(bin(nextNum))\n",
    "    nextNum &= -i #clear trailing portion\n",
    "    print(bin(nextNum))\n",
    "    nextNum |= rmask\n",
    "    print(bin(nextNum))\n",
    "    return nextNum"
   ]
  },
  {
   "cell_type": "code",
   "execution_count": 6,
   "metadata": {
    "collapsed": false
   },
   "outputs": [
    {
     "name": "stdout",
     "output_type": "stream",
     "text": [
      "0b11110011100\n",
      "0b11110111100\n",
      "0b11110100000\n",
      "0b11110100011\n"
     ]
    },
    {
     "data": {
      "text/plain": [
       "1955"
      ]
     },
     "execution_count": 6,
     "metadata": {},
     "output_type": "execute_result"
    }
   ],
   "source": [
    "nextNumber(0b011110011100)"
   ]
  },
  {
   "cell_type": "code",
   "execution_count": 7,
   "metadata": {
    "collapsed": false
   },
   "outputs": [
    {
     "data": {
      "text/plain": [
       "1948"
      ]
     },
     "execution_count": 7,
     "metadata": {},
     "output_type": "execute_result"
    }
   ],
   "source": [
    "0b011110011100"
   ]
  }
 ],
 "metadata": {
  "kernelspec": {
   "display_name": "Python 3",
   "language": "python",
   "name": "python3"
  },
  "language_info": {
   "codemirror_mode": {
    "name": "ipython",
    "version": 3
   },
   "file_extension": ".py",
   "mimetype": "text/x-python",
   "name": "python",
   "nbconvert_exporter": "python",
   "pygments_lexer": "ipython3",
   "version": "3.5.1"
  }
 },
 "nbformat": 4,
 "nbformat_minor": 0
}
