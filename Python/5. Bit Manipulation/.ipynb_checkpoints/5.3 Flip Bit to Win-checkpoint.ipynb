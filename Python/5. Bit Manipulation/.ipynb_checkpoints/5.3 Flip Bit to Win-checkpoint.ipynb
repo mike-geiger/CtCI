{
 "cells": [
  {
   "cell_type": "code",
   "execution_count": 14,
   "metadata": {
    "collapsed": false
   },
   "outputs": [],
   "source": [
    "def flipToWin(num):\n",
    "    maxDist = 0\n",
    "    if num <0:\n",
    "        maxDist = 2\n",
    "    distFromPrev = 1\n",
    "    distFromSec = 1\n",
    "    \n",
    "    while num != 0 and num != -1:\n",
    "        if num & 1 ==0:\n",
    "            maxDist = max (maxDist, distFromSec)\n",
    "            distFromSec = distFromPrev\n",
    "            distFromPrev = 1\n",
    "        else:\n",
    "            distFromPrev += 1\n",
    "            distFromSec += 1\n",
    "        num = num >> 1\n",
    "    return maxDist"
   ]
  },
  {
   "cell_type": "code",
   "execution_count": 15,
   "metadata": {
    "collapsed": false
   },
   "outputs": [
    {
     "data": {
      "text/plain": [
       "8"
      ]
     },
     "execution_count": 15,
     "metadata": {},
     "output_type": "execute_result"
    }
   ],
   "source": [
    "flipToWin(1775)"
   ]
  },
  {
   "cell_type": "code",
   "execution_count": 34,
   "metadata": {
    "collapsed": false
   },
   "outputs": [
    {
     "data": {
      "text/plain": [
       "7"
      ]
     },
     "execution_count": 34,
     "metadata": {},
     "output_type": "execute_result"
    }
   ],
   "source": [
    "flipToWin(0b11111001110111)"
   ]
  },
  {
   "cell_type": "code",
   "execution_count": 23,
   "metadata": {
    "collapsed": false
   },
   "outputs": [
    {
     "data": {
      "text/plain": [
       "'0b11011101111'"
      ]
     },
     "execution_count": 23,
     "metadata": {},
     "output_type": "execute_result"
    }
   ],
   "source": [
    "bin(1775)"
   ]
  },
  {
   "cell_type": "code",
   "execution_count": 25,
   "metadata": {
    "collapsed": false
   },
   "outputs": [
    {
     "data": {
      "text/plain": [
       "'0b11011101111'"
      ]
     },
     "execution_count": 25,
     "metadata": {},
     "output_type": "execute_result"
    }
   ],
   "source": [
    "bin((~-1775) +1)"
   ]
  },
  {
   "cell_type": "code",
   "execution_count": 30,
   "metadata": {
    "collapsed": true
   },
   "outputs": [],
   "source": [
    "def flipit(num):\n",
    "    if num < 0:\n",
    "        num = ~(-num) +1\n",
    "    maxSeen = 1\n",
    "    currentSegment = 0\n",
    "    previousSegment = 0\n",
    "    \n",
    "    while num > 0:\n",
    "        if num & 1 == 0:\n",
    "            maxSeen = max (currentSegment + previousSegment + 1, maxSeen)\n",
    "            previousSegment = currentSegment\n",
    "            currentSegment = 0\n",
    "        else:\n",
    "            currentSegment +=1\n",
    "        num >>= 1\n",
    "    return maxSeen\n",
    "        "
   ]
  },
  {
   "cell_type": "code",
   "execution_count": 32,
   "metadata": {
    "collapsed": false
   },
   "outputs": [
    {
     "data": {
      "text/plain": [
       "7"
      ]
     },
     "execution_count": 32,
     "metadata": {},
     "output_type": "execute_result"
    }
   ],
   "source": [
    "flipit (0b11111001110111)"
   ]
  },
  {
   "cell_type": "code",
   "execution_count": 33,
   "metadata": {
    "collapsed": false
   },
   "outputs": [
    {
     "data": {
      "text/plain": [
       "15991"
      ]
     },
     "execution_count": 33,
     "metadata": {},
     "output_type": "execute_result"
    }
   ],
   "source": [
    "0b11111001110111"
   ]
  }
 ],
 "metadata": {
  "kernelspec": {
   "display_name": "Python 3",
   "language": "python",
   "name": "python3"
  },
  "language_info": {
   "codemirror_mode": {
    "name": "ipython",
    "version": 3
   },
   "file_extension": ".py",
   "mimetype": "text/x-python",
   "name": "python",
   "nbconvert_exporter": "python",
   "pygments_lexer": "ipython3",
   "version": "3.5.1"
  }
 },
 "nbformat": 4,
 "nbformat_minor": 0
}
