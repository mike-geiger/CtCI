{
 "cells": [
  {
   "cell_type": "code",
   "execution_count": 1,
   "metadata": {
    "collapsed": true
   },
   "outputs": [],
   "source": [
    "def drawLine(screen, width, x1, x2, y):\n",
    "    start_off = x1 % 8\n",
    "    first_full_byte = x1 // 8\n",
    "    if start_off == 0:\n",
    "        first_full_byte += 1\n",
    "    end_off = x2 % 8\n",
    "    last_full_byte = x2 // 8\n",
    "    if end_off != 7:\n",
    "        last_full_byte -= 1\n",
    "    \n",
    "    for b in range(first_full_byte, last_full_byte + 1):\n",
    "        screen[(width//8)*y+b] = 0xff\n",
    "    \n",
    "    start_mask = 0xFF >> start_off\n",
    "    end_mask = ~(0xff >> end_off + 1)\n",
    "    \n",
    "    if x1 // 8 == x2 // 8:\n",
    "        mask = start_mask & end_mask\n",
    "        screen[width //8 * y + x1//8] |= mask\n",
    "    else:\n",
    "        if start_off != 0:\n",
    "            loc = width//8 *y +first_full_byte -1\n",
    "            screen[loc] |= start_mask\n",
    "        if end_off != 7:\n",
    "            loc = width//8 * y + last_full_byte+1\n",
    "            screen[loc] |= end_mask"
   ]
  },
  {
   "cell_type": "code",
   "execution_count": 4,
   "metadata": {
    "collapsed": true
   },
   "outputs": [],
   "source": [
    "import math\n",
    "\n",
    "def blank(width, height):\n",
    "    return [0] * int(math.ceil(width * height / 8.0))\n",
    "\n",
    "def line(bitmap, width, height, x1, x2, y):\n",
    "    a_full = width * y + x1\n",
    "    z_full = width * y + x2\n",
    "    a_head = a_full >> 3\n",
    "    a_bits = a_full & 0x7\n",
    "    a_body = a_head + (1 if 0 != a_bits else 0)\n",
    "    z_tail = z_full >> 3\n",
    "    z_bits = (z_full & 0x7) + 1\n",
    "    z_body = z_tail - (1 if 8 != z_bits else 0)\n",
    "    # Head\n",
    "    if a_head != a_body:\n",
    "        bitmap[a_head] |= (0xFF << a_bits) & 0xFF\n",
    "    # Body\n",
    "    for i in range(a_body, z_body + 1):\n",
    "        bitmap[i] = 0xFF\n",
    "    # Tail\n",
    "    if z_tail != z_body:\n",
    "        bitmap[z_tail] |= ~(0xFF << z_bits) & 0xFF\n",
    "\n",
    "def hexed(bitmap):\n",
    "    return ''.join(['%02X' % byte for byte in bitmap])\n",
    "\n"
   ]
  },
  {
   "cell_type": "code",
   "execution_count": 5,
   "metadata": {
    "collapsed": false
   },
   "outputs": [
    {
     "name": "stdout",
     "output_type": "stream",
     "text": [
      "0000000080FF7F0000000000\n"
     ]
    }
   ],
   "source": [
    "width = 32\n",
    "height = 3\n",
    "bitmap = blank(width, height)\n",
    "line(bitmap, width, height, 7, 22, 1)\n",
    "print(hexed(bitmap))"
   ]
  },
  {
   "cell_type": "code",
   "execution_count": null,
   "metadata": {
    "collapsed": true
   },
   "outputs": [],
   "source": []
  }
 ],
 "metadata": {
  "kernelspec": {
   "display_name": "Python 3",
   "language": "python",
   "name": "python3"
  },
  "language_info": {
   "codemirror_mode": {
    "name": "ipython",
    "version": 3
   },
   "file_extension": ".py",
   "mimetype": "text/x-python",
   "name": "python",
   "nbconvert_exporter": "python",
   "pygments_lexer": "ipython3",
   "version": "3.5.1"
  }
 },
 "nbformat": 4,
 "nbformat_minor": 0
}
