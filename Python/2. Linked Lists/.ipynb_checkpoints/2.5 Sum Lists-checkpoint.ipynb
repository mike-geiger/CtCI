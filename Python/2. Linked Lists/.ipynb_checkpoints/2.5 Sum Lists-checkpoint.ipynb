{
 "cells": [
  {
   "cell_type": "code",
   "execution_count": 1,
   "metadata": {
    "collapsed": true
   },
   "outputs": [],
   "source": [
    "class Node(object):\n",
    "    def __init__(self, data):\n",
    "        self.data = data\n",
    "        self.nextnode = None"
   ]
  },
  {
   "cell_type": "code",
   "execution_count": 3,
   "metadata": {
    "collapsed": true
   },
   "outputs": [],
   "source": [
    "def sumLists (x, y):\n",
    "    result = 0\n",
    "    place = 1\n",
    "    curr = x\n",
    "    while curr:\n",
    "        result += x.data * place\n",
    "        place = place * 10\n",
    "    curr = y\n",
    "    place = 1\n",
    "    while curr:\n",
    "        result += x.data * place\n",
    "        place = place * 10\n",
    "    return result"
   ]
  },
  {
   "cell_type": "code",
   "execution_count": 5,
   "metadata": {
    "collapsed": false
   },
   "outputs": [],
   "source": [
    "x = Node(7)\n",
    "x.nextnode = Node(1)\n",
    "x.nextnode.nextnode = Node(6)\n",
    "\n",
    "y = Node(5)\n",
    "y.nextnode = Node(9)\n",
    "y.nextnode.nextnode = Node(2)"
   ]
  },
  {
   "cell_type": "code",
   "execution_count": null,
   "metadata": {
    "collapsed": true
   },
   "outputs": [],
   "source": []
  }
 ],
 "metadata": {
  "kernelspec": {
   "display_name": "Python 3",
   "language": "python",
   "name": "python3"
  },
  "language_info": {
   "codemirror_mode": {
    "name": "ipython",
    "version": 3
   },
   "file_extension": ".py",
   "mimetype": "text/x-python",
   "name": "python",
   "nbconvert_exporter": "python",
   "pygments_lexer": "ipython3",
   "version": "3.5.1"
  }
 },
 "nbformat": 4,
 "nbformat_minor": 0
}
