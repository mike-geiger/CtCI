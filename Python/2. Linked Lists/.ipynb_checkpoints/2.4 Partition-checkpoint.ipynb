{
 "cells": [
  {
   "cell_type": "code",
   "execution_count": 29,
   "metadata": {
    "collapsed": true
   },
   "outputs": [],
   "source": [
    "def partition(ll, x):\n",
    "    current = ll.tail = ll.head\n",
    "    \n",
    "    current = current.nextnode\n",
    "    while current:\n",
    "        nn = current.nextnode\n",
    "        if current.data < x:\n",
    "            current.nextnode = ll.head\n",
    "            ll.head = current\n",
    "        else:\n",
    "            ll.tail.nextnode = current\n",
    "            ll.tail = current\n",
    "            current.nextnode=None\n",
    "        current = nn"
   ]
  },
  {
   "cell_type": "code",
   "execution_count": 3,
   "metadata": {
    "collapsed": true
   },
   "outputs": [],
   "source": [
    "class Node(object):\n",
    "    def __init__(self, data):\n",
    "        self.data = data\n",
    "        self.nextnode = None"
   ]
  },
  {
   "cell_type": "code",
   "execution_count": 16,
   "metadata": {
    "collapsed": true
   },
   "outputs": [],
   "source": [
    "class LinkedList(object):\n",
    "    def __init__(self, head, tail = None):\n",
    "        self.head = head\n",
    "        self.tail = head\n",
    "        if tail:\n",
    "            self.tail=tail"
   ]
  },
  {
   "cell_type": "code",
   "execution_count": null,
   "metadata": {
    "collapsed": true
   },
   "outputs": [],
   "source": []
  },
  {
   "cell_type": "code",
   "execution_count": 26,
   "metadata": {
    "collapsed": true
   },
   "outputs": [],
   "source": [
    "n = Node(1)\n",
    "n.nextnode = Node(2)\n",
    "n.nextnode.nextnode = Node(3)\n",
    "n.nextnode.nextnode.nextnode=Node(1)\n",
    "n.nextnode.nextnode.nextnode.nextnode=Node(4)\n",
    "ll = LinkedList(n, n.nextnode.nextnode.nextnode.nextnode)"
   ]
  },
  {
   "cell_type": "code",
   "execution_count": 27,
   "metadata": {
    "collapsed": false
   },
   "outputs": [],
   "source": [
    "m = partition(ll, 3)"
   ]
  },
  {
   "cell_type": "code",
   "execution_count": 28,
   "metadata": {
    "collapsed": false
   },
   "outputs": [
    {
     "name": "stdout",
     "output_type": "stream",
     "text": [
      "1\n",
      "2\n",
      "1\n",
      "3\n",
      "4\n"
     ]
    }
   ],
   "source": [
    "curr = ll.head\n",
    "while curr:\n",
    "    print (curr.data)\n",
    "    curr = curr.nextnode"
   ]
  }
 ],
 "metadata": {
  "kernelspec": {
   "display_name": "Python 3",
   "language": "python",
   "name": "python3"
  },
  "language_info": {
   "codemirror_mode": {
    "name": "ipython",
    "version": 3
   },
   "file_extension": ".py",
   "mimetype": "text/x-python",
   "name": "python",
   "nbconvert_exporter": "python",
   "pygments_lexer": "ipython3",
   "version": "3.5.1"
  }
 },
 "nbformat": 4,
 "nbformat_minor": 0
}
