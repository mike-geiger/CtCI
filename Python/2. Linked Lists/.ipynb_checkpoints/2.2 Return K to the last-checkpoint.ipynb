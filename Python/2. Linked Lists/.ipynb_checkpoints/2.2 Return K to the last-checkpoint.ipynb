{
 "cells": [
  {
   "cell_type": "code",
   "execution_count": 5,
   "metadata": {
    "collapsed": false
   },
   "outputs": [],
   "source": [
    "class Node(object):\n",
    "    def __init__(self, data):\n",
    "        self.data = data\n",
    "        self.nextnode = None"
   ]
  },
  {
   "cell_type": "code",
   "execution_count": 10,
   "metadata": {
    "collapsed": true
   },
   "outputs": [],
   "source": [
    "def findKtoLast(head, k):\n",
    "    runner = head\n",
    "    for i in range(k):\n",
    "        if runner.nextnode is None:\n",
    "            return None\n",
    "        runner = runner.nextnode\n",
    "    trailer = head\n",
    "    while runner:\n",
    "        trailer=trailer.nextnode\n",
    "        runner=runner.nextnode\n",
    "    return trailer"
   ]
  },
  {
   "cell_type": "code",
   "execution_count": 11,
   "metadata": {
    "collapsed": true
   },
   "outputs": [],
   "source": [
    "n = Node(1)\n",
    "n.nextnode = Node(2)\n",
    "n.nextnode.nextnode = Node(3)\n",
    "n.nextnode.nextnode.nextnode=Node(1)\n",
    "n.nextnode.nextnode.nextnode.nextnode=Node(4)"
   ]
  },
  {
   "cell_type": "code",
   "execution_count": 12,
   "metadata": {
    "collapsed": false
   },
   "outputs": [
    {
     "name": "stdout",
     "output_type": "stream",
     "text": [
      "1\n"
     ]
    }
   ],
   "source": [
    "print(findKtoLast(n, 2).data)"
   ]
  }
 ],
 "metadata": {
  "kernelspec": {
   "display_name": "Python 3",
   "language": "python",
   "name": "python3"
  },
  "language_info": {
   "codemirror_mode": {
    "name": "ipython",
    "version": 3
   },
   "file_extension": ".py",
   "mimetype": "text/x-python",
   "name": "python",
   "nbconvert_exporter": "python",
   "pygments_lexer": "ipython3",
   "version": "3.5.1"
  }
 },
 "nbformat": 4,
 "nbformat_minor": 0
}
