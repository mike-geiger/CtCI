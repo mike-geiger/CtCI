{
 "cells": [
  {
   "cell_type": "code",
   "execution_count": 76,
   "metadata": {
    "collapsed": false
   },
   "outputs": [],
   "source": [
    "from LinkedList import LinkedList\n",
    "def loopDetector(ll):\n",
    "    slow = fast = ll.head\n",
    "    \n",
    "    while fast and fast.next:\n",
    "        fast = fast.next.next\n",
    "        slow = slow.next\n",
    "        if fast is slow:\n",
    "            break\n",
    "    if fast is None or fast.next is None:\n",
    "        return None\n",
    "    fast = ll.head\n",
    "    while fast is not slow:\n",
    "        fast = fast.next\n",
    "        slow=slow.next\n",
    "    return fast"
   ]
  },
  {
   "cell_type": "code",
   "execution_count": 77,
   "metadata": {
    "collapsed": true
   },
   "outputs": [],
   "source": [
    "ll = LinkedList(['A','B','C','D','E','F'])\n",
    "ll.tail.next = ll.head"
   ]
  },
  {
   "cell_type": "code",
   "execution_count": 75,
   "metadata": {
    "collapsed": false
   },
   "outputs": [
    {
     "name": "stdout",
     "output_type": "stream",
     "text": [
      "A A\n",
      "C B\n",
      "E C\n",
      "A D\n",
      "C E\n",
      "E F\n",
      "A\n"
     ]
    }
   ],
   "source": [
    "print(loopDetector(ll).value)"
   ]
  },
  {
   "cell_type": "code",
   "execution_count": 68,
   "metadata": {
    "collapsed": false
   },
   "outputs": [
    {
     "name": "stdout",
     "output_type": "stream",
     "text": [
      "A\n",
      "B\n",
      "C\n",
      "D\n",
      "E\n",
      "F\n",
      "B\n"
     ]
    }
   ],
   "source": [
    "print(ll.head.value)\n",
    "print(ll.head.next.value)\n",
    "print(ll.head.next.next.value)\n",
    "print(ll.head.next.next.next.value)\n",
    "print(ll.head.next.next.next.next.value)\n",
    "print(ll.head.next.next.next.next.next.value)\n",
    "print(ll.head.next.next.next.next.next.next.value)"
   ]
  },
  {
   "cell_type": "code",
   "execution_count": 69,
   "metadata": {
    "collapsed": false
   },
   "outputs": [],
   "source": [
    "def loop_detection(ll):\n",
    "    fast = slow = ll.head\n",
    "    #fast=slow.next.next\n",
    "    print (fast is not slow)\n",
    "    while fast and fast.next and fast is not slow:\n",
    "        print(fast,slow)\n",
    "        fast = fast.next.next\n",
    "        slow = slow.next\n",
    "\n",
    "    if fast is None or fast.next is None:\n",
    "        return None\n",
    "\n",
    "    slow = ll.head\n",
    "    while fast is not slow:\n",
    "        fast = fast.next\n",
    "        slow = slow.next\n",
    "\n",
    "    return fast"
   ]
  },
  {
   "cell_type": "code",
   "execution_count": 70,
   "metadata": {
    "collapsed": false
   },
   "outputs": [
    {
     "name": "stdout",
     "output_type": "stream",
     "text": [
      "False\n",
      "A\n"
     ]
    }
   ],
   "source": [
    "print(loop_detection(ll).value)"
   ]
  },
  {
   "cell_type": "code",
   "execution_count": null,
   "metadata": {
    "collapsed": true
   },
   "outputs": [],
   "source": []
  }
 ],
 "metadata": {
  "kernelspec": {
   "display_name": "Python 3",
   "language": "python",
   "name": "python3"
  },
  "language_info": {
   "codemirror_mode": {
    "name": "ipython",
    "version": 3
   },
   "file_extension": ".py",
   "mimetype": "text/x-python",
   "name": "python",
   "nbconvert_exporter": "python",
   "pygments_lexer": "ipython3",
   "version": "3.5.1"
  }
 },
 "nbformat": 4,
 "nbformat_minor": 0
}
