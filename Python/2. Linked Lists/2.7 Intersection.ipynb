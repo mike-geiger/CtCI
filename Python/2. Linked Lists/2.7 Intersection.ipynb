{
 "cells": [
  {
   "cell_type": "code",
   "execution_count": 5,
   "metadata": {
    "collapsed": false
   },
   "outputs": [],
   "source": [
    "def isIntersecting(ll,mm):\n",
    "    n1 = ll.head\n",
    "    n2 = mm.head\n",
    "    seen = set()\n",
    "    while n1 or n2:\n",
    "        if n1:\n",
    "            if n1 in seen:\n",
    "                return n1\n",
    "            seen.add(n1)\n",
    "            n1=n1.next\n",
    "        if n2:\n",
    "            if n2 in seen:\n",
    "                return n2\n",
    "            seen.add(n2)\n",
    "            n2=n2.next\n",
    "    return None"
   ]
  },
  {
   "cell_type": "code",
   "execution_count": 7,
   "metadata": {
    "collapsed": false
   },
   "outputs": [],
   "source": [
    "from LinkedList import LinkedList"
   ]
  },
  {
   "cell_type": "code",
   "execution_count": 8,
   "metadata": {
    "collapsed": false
   },
   "outputs": [
    {
     "data": {
      "text/plain": [
       "<LinkedList.LinkedList at 0x9e6ecd6a58>"
      ]
     },
     "execution_count": 8,
     "metadata": {},
     "output_type": "execute_result"
    }
   ],
   "source": [
    "ll=LinkedList()\n",
    "ll.generate(50,1,100)"
   ]
  },
  {
   "cell_type": "code",
   "execution_count": 12,
   "metadata": {
    "collapsed": false
   },
   "outputs": [
    {
     "data": {
      "text/plain": [
       "<LinkedList.LinkedList at 0x9e6ef09a58>"
      ]
     },
     "execution_count": 12,
     "metadata": {},
     "output_type": "execute_result"
    }
   ],
   "source": [
    "mm = LinkedList()\n",
    "mm.generate(50,1,100)"
   ]
  },
  {
   "cell_type": "code",
   "execution_count": 13,
   "metadata": {
    "collapsed": true
   },
   "outputs": [],
   "source": [
    "mm.tail.next = ll.head.next.next.next.next.next.next.next.next\n",
    "mm.tail=ll.tail"
   ]
  },
  {
   "cell_type": "code",
   "execution_count": 23,
   "metadata": {
    "collapsed": false
   },
   "outputs": [
    {
     "data": {
      "text/plain": [
       "<LinkedList.LinkedListNode at 0x9e6eef9ef0>"
      ]
     },
     "execution_count": 23,
     "metadata": {},
     "output_type": "execute_result"
    }
   ],
   "source": [
    "isIntersecting(ll,mm)"
   ]
  },
  {
   "cell_type": "code",
   "execution_count": null,
   "metadata": {
    "collapsed": true
   },
   "outputs": [],
   "source": []
  },
  {
   "cell_type": "code",
   "execution_count": 19,
   "metadata": {
    "collapsed": true
   },
   "outputs": [],
   "source": [
    "def isIntersecting2(ll,mm):\n",
    "    if ll.tail != mm.tail:\n",
    "        return None\n",
    "    llLen = len(ll)\n",
    "    mmLen = len(mm)\n",
    "    \n",
    "    shorter = ll if llLen < mmLen else mm\n",
    "    longer = mm if llLen < mmLen else mm\n",
    "    \n",
    "    diff = mmLen -llLen if llLen < mmLen else llLen-mmLen\n",
    "    lRunner= longer.head\n",
    "    sRunner = shorter.head\n",
    "    \n",
    "    for i in range(diff):\n",
    "        lRunner= lRunner.next\n",
    "    \n",
    "    while lRunner != sRunner:\n",
    "        lRunner=lRunner.next\n",
    "        sRunner=sRunner.next\n",
    "    return lRunner"
   ]
  },
  {
   "cell_type": "code",
   "execution_count": 20,
   "metadata": {
    "collapsed": false
   },
   "outputs": [
    {
     "name": "stdout",
     "output_type": "stream",
     "text": [
      "100000 loops, best of 3: 12.6 µs per loop\n",
      "100000 loops, best of 3: 17.2 µs per loop\n"
     ]
    }
   ],
   "source": [
    "%timeit isIntersecting2(ll,mm)\n",
    "%timeit isIntersecting(ll,mm)"
   ]
  }
 ],
 "metadata": {
  "kernelspec": {
   "display_name": "Python 3",
   "language": "python",
   "name": "python3"
  },
  "language_info": {
   "codemirror_mode": {
    "name": "ipython",
    "version": 3
   },
   "file_extension": ".py",
   "mimetype": "text/x-python",
   "name": "python",
   "nbconvert_exporter": "python",
   "pygments_lexer": "ipython3",
   "version": "3.5.1"
  }
 },
 "nbformat": 4,
 "nbformat_minor": 0
}
