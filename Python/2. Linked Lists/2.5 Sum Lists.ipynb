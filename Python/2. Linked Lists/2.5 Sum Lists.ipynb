{
 "cells": [
  {
   "cell_type": "code",
   "execution_count": 1,
   "metadata": {
    "collapsed": true
   },
   "outputs": [],
   "source": [
    "class Node(object):\n",
    "    def __init__(self, data):\n",
    "        self.data = data\n",
    "        self.nextnode = None"
   ]
  },
  {
   "cell_type": "code",
   "execution_count": 11,
   "metadata": {
    "collapsed": true
   },
   "outputs": [],
   "source": [
    "def sumLists (x, y):\n",
    "    resulthead = Node(None)\n",
    "    carry = 0\n",
    "    currX=x\n",
    "    currY=y\n",
    "    currResult = resulthead\n",
    "    while currX or currY:\n",
    "        curr = carry\n",
    "        if currX:\n",
    "            curr += currX.data\n",
    "            currX= currX.nextnode\n",
    "        if currY:\n",
    "            curr += currY.data\n",
    "            currY = currY.nextnode\n",
    "        currResult.nextnode = Node(curr %10)\n",
    "        currResult=currResult.nextnode\n",
    "        carry = curr //10\n",
    "    if carry > 0:\n",
    "        currResult.nextnode=Node(carry)\n",
    "    return resulthead.nextnode\n",
    "    "
   ]
  },
  {
   "cell_type": "code",
   "execution_count": 14,
   "metadata": {
    "collapsed": false
   },
   "outputs": [],
   "source": [
    "x = Node(9)\n",
    "x.nextnode = Node(9)\n",
    "x.nextnode.nextnode = Node(9)\n",
    "\n",
    "y = Node(9)\n",
    "y.nextnode = Node(9)\n",
    "y.nextnode.nextnode = Node(9)"
   ]
  },
  {
   "cell_type": "code",
   "execution_count": 15,
   "metadata": {
    "collapsed": false
   },
   "outputs": [],
   "source": [
    "z = sumLists(x,y)"
   ]
  },
  {
   "cell_type": "code",
   "execution_count": 16,
   "metadata": {
    "collapsed": false
   },
   "outputs": [
    {
     "name": "stdout",
     "output_type": "stream",
     "text": [
      "8\n",
      "9\n",
      "9\n",
      "1\n"
     ]
    }
   ],
   "source": [
    "curr = z\n",
    "while curr:\n",
    "    print(curr.data)\n",
    "    curr = curr.nextnode"
   ]
  }
 ],
 "metadata": {
  "kernelspec": {
   "display_name": "Python 3",
   "language": "python",
   "name": "python3"
  },
  "language_info": {
   "codemirror_mode": {
    "name": "ipython",
    "version": 3
   },
   "file_extension": ".py",
   "mimetype": "text/x-python",
   "name": "python",
   "nbconvert_exporter": "python",
   "pygments_lexer": "ipython3",
   "version": "3.5.1"
  }
 },
 "nbformat": 4,
 "nbformat_minor": 0
}
