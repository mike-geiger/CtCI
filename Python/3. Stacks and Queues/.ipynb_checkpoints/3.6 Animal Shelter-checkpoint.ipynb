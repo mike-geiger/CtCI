{
 "cells": [
  {
   "cell_type": "code",
   "execution_count": 2,
   "metadata": {
    "collapsed": false
   },
   "outputs": [],
   "source": [
    "from LinkedList import LinkedList"
   ]
  },
  {
   "cell_type": "code",
   "execution_count": 71,
   "metadata": {
    "collapsed": true
   },
   "outputs": [],
   "source": [
    "class Animal(object):\n",
    "    def __init__(self, name):\n",
    "        self.name = name\n",
    "        self.order = None\n",
    "    def setOrder(self, order):\n",
    "        self.order = order\n",
    "    def getOrder(self):\n",
    "        return self.order\n",
    "    \n",
    "class Dog(Animal):\n",
    "    def __init__(self, name):\n",
    "        Animal.__init__(self,name)\n",
    "class Cat(Animal):\n",
    "    def __init__(self, name):\n",
    "        Animal.__init__(self,name)\n",
    "    \n",
    "        \n",
    "class AnimalShelter(object):\n",
    "    def __init__(self):\n",
    "        self.cats = LinkedList()\n",
    "        self.dogs = LinkedList()\n",
    "        self.order = 0\n",
    "    def enqueue(self, animal):\n",
    "        animal.setOrder(self.order)\n",
    "        self.order +=1\n",
    "        if isinstance(animal, Cat):\n",
    "            self.cats.add(animal)\n",
    "        else:\n",
    "            self.dogs.add(animal)\n",
    "        \n",
    "    def dequeue(self):\n",
    "        if self.cats.head:\n",
    "            if self.dogs.head is None or self.cats.head.value.getOrder() < self.dogs.head.value.getOrder():\n",
    "                return self.dequeueCat()\n",
    "        return self.dequeueDog()\n",
    "        \n",
    "    \n",
    "    def dequeueCat(self):\n",
    "        animal = None\n",
    "        if self.cats.head:\n",
    "            animal = self.cats.head.value\n",
    "            self.cats.head=self.cats.head.next\n",
    "        return animal\n",
    "    \n",
    "    def dequeueDog(self):\n",
    "        animal = None\n",
    "        if self.dogs.head:\n",
    "            animal = self.dogs.head.value\n",
    "            self.dogs.head=self.dogs.head.next\n",
    "        return animal"
   ]
  },
  {
   "cell_type": "code",
   "execution_count": 84,
   "metadata": {
    "collapsed": false
   },
   "outputs": [],
   "source": [
    "a = AnimalShelter()"
   ]
  },
  {
   "cell_type": "code",
   "execution_count": 85,
   "metadata": {
    "collapsed": false
   },
   "outputs": [],
   "source": [
    "a.enqueue(Cat('Dix'))"
   ]
  },
  {
   "cell_type": "code",
   "execution_count": 86,
   "metadata": {
    "collapsed": false
   },
   "outputs": [],
   "source": [
    "a.enqueue(Dog('Puck'))"
   ]
  },
  {
   "cell_type": "code",
   "execution_count": 79,
   "metadata": {
    "collapsed": false
   },
   "outputs": [
    {
     "data": {
      "text/plain": [
       "'Puck'"
      ]
     },
     "execution_count": 79,
     "metadata": {},
     "output_type": "execute_result"
    }
   ],
   "source": [
    "a.dequeueDog().name"
   ]
  },
  {
   "cell_type": "code",
   "execution_count": 87,
   "metadata": {
    "collapsed": false
   },
   "outputs": [
    {
     "data": {
      "text/plain": [
       "'Dix'"
      ]
     },
     "execution_count": 87,
     "metadata": {},
     "output_type": "execute_result"
    }
   ],
   "source": [
    "a.dequeueCat().name"
   ]
  },
  {
   "cell_type": "code",
   "execution_count": null,
   "metadata": {
    "collapsed": true
   },
   "outputs": [],
   "source": []
  }
 ],
 "metadata": {
  "kernelspec": {
   "display_name": "Python 3",
   "language": "python",
   "name": "python3"
  },
  "language_info": {
   "codemirror_mode": {
    "name": "ipython",
    "version": 3
   },
   "file_extension": ".py",
   "mimetype": "text/x-python",
   "name": "python",
   "nbconvert_exporter": "python",
   "pygments_lexer": "ipython3",
   "version": "3.5.1"
  }
 },
 "nbformat": 4,
 "nbformat_minor": 0
}
