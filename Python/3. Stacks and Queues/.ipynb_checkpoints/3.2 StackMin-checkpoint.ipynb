{
 "cells": [
  {
   "cell_type": "code",
   "execution_count": 13,
   "metadata": {
    "collapsed": false
   },
   "outputs": [],
   "source": [
    "class StackData(object):\n",
    "    def __init__(self, data, currentMin):\n",
    "        self.data = data\n",
    "        self.currentMin=currentMin\n",
    "class StackMin(object):\n",
    "        \n",
    "    def __init__(self):\n",
    "        self._stack = []\n",
    "        \n",
    "    def push(self, data):\n",
    "        newmin = data\n",
    "        if not self.isEmpty():\n",
    "            newmin = min(data, self.min())\n",
    "        self._stack.append(StackData(data,newmin))\n",
    "    \n",
    "    def pop(self):\n",
    "        return self._stack.pop().data\n",
    "    \n",
    "    def min(self):\n",
    "        if self.isEmpty():\n",
    "            return None\n",
    "        return self._stack[-1].currentMin\n",
    "    \n",
    "    def peek(self):\n",
    "        return stack[-1].data\n",
    "    \n",
    "    def isEmpty(self):\n",
    "        return len(self._stack)==0\n",
    "    \n",
    "    "
   ]
  },
  {
   "cell_type": "code",
   "execution_count": 14,
   "metadata": {
    "collapsed": false
   },
   "outputs": [],
   "source": [
    "s = StackMin()\n",
    "s.push(1)"
   ]
  },
  {
   "cell_type": "code",
   "execution_count": 15,
   "metadata": {
    "collapsed": true
   },
   "outputs": [],
   "source": [
    "s.push(2)"
   ]
  },
  {
   "cell_type": "code",
   "execution_count": 17,
   "metadata": {
    "collapsed": false
   },
   "outputs": [
    {
     "data": {
      "text/plain": [
       "1"
      ]
     },
     "execution_count": 17,
     "metadata": {},
     "output_type": "execute_result"
    }
   ],
   "source": [
    "s.min()"
   ]
  },
  {
   "cell_type": "code",
   "execution_count": 18,
   "metadata": {
    "collapsed": false
   },
   "outputs": [
    {
     "data": {
      "text/plain": [
       "2"
      ]
     },
     "execution_count": 18,
     "metadata": {},
     "output_type": "execute_result"
    }
   ],
   "source": [
    "s.pop()"
   ]
  }
 ],
 "metadata": {
  "kernelspec": {
   "display_name": "Python 3",
   "language": "python",
   "name": "python3"
  },
  "language_info": {
   "codemirror_mode": {
    "name": "ipython",
    "version": 3
   },
   "file_extension": ".py",
   "mimetype": "text/x-python",
   "name": "python",
   "nbconvert_exporter": "python",
   "pygments_lexer": "ipython3",
   "version": "3.5.1"
  }
 },
 "nbformat": 4,
 "nbformat_minor": 0
}
