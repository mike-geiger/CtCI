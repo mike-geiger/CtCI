{
 "cells": [
  {
   "cell_type": "code",
   "execution_count": 75,
   "metadata": {
    "collapsed": false
   },
   "outputs": [],
   "source": [
    "class Stack(object):\n",
    "    def __init__(self, size):\n",
    "        self._array = [None] * size\n",
    "        self._size = 0\n",
    "    def isEmpty (self):\n",
    "        return self._size==0\n",
    "    def isFull (self):\n",
    "        return self._size == len(self._array)\n",
    "    def push(self, data):\n",
    "        if self.isFull():\n",
    "            raise Exception('stack is full')\n",
    "        self._array[self._size] = data\n",
    "        self._size += 1\n",
    "    def peek(self):\n",
    "        if self.isEmpty():\n",
    "            raise Exception('stack is empty')\n",
    "        return self._array[self._size-1]\n",
    "    def pop(self):\n",
    "        if self.isEmpty():\n",
    "            raise Exception('stack is empty')\n",
    "        self._size-=1\n",
    "        return self._array[self._size]\n",
    "\n",
    "class SetOfStacks(object):\n",
    "    def __init__(self, size):\n",
    "        self._sizeOfStacks = size\n",
    "        self._arrayOfStacks = []\n",
    "    def push(self, data):\n",
    "        if len(self._arrayOfStacks) == 0 or self._arrayOfStacks[-1].isFull():\n",
    "            self._arrayOfStacks.append(Stack(self._sizeOfStacks))\n",
    "        self._arrayOfStacks[-1].push(data)\n",
    "        \n",
    "    def pop(self):\n",
    "        if self.isEmpty():\n",
    "            raise Exception('No data in stack')\n",
    "        return self.popAt(len(self._arrayOfStacks)-1)\n",
    "    def popAt(self, stackNo):\n",
    "        val = self._arrayOfStacks[stackNo].pop()\n",
    "        if self._arrayOfStacks[stackNo].isEmpty():\n",
    "            self._arrayOfStacks.pop(stackNo)\n",
    "        return val\n",
    "    \n",
    "    def peek(self):\n",
    "        if self.isEmpty():\n",
    "            raise Exception('No data in stack')\n",
    "        return self._arrayOfStacks[-1].peek()\n",
    "    \n",
    "    def isEmpty(self):\n",
    "        return len(self._arrayOfStacks) == 0\n",
    "        "
   ]
  },
  {
   "cell_type": "code",
   "execution_count": 76,
   "metadata": {
    "collapsed": true
   },
   "outputs": [],
   "source": [
    "sos = SetOfStacks(50)"
   ]
  },
  {
   "cell_type": "code",
   "execution_count": 77,
   "metadata": {
    "collapsed": false
   },
   "outputs": [],
   "source": [
    "for i in range(100):\n",
    "    sos.push(i)"
   ]
  },
  {
   "cell_type": "code",
   "execution_count": 82,
   "metadata": {
    "collapsed": false
   },
   "outputs": [
    {
     "data": {
      "text/plain": [
       "98"
      ]
     },
     "execution_count": 82,
     "metadata": {},
     "output_type": "execute_result"
    }
   ],
   "source": [
    "sos.peek()"
   ]
  },
  {
   "cell_type": "code",
   "execution_count": 81,
   "metadata": {
    "collapsed": false
   },
   "outputs": [
    {
     "data": {
      "text/plain": [
       "99"
      ]
     },
     "execution_count": 81,
     "metadata": {},
     "output_type": "execute_result"
    }
   ],
   "source": [
    "sos.pop()"
   ]
  },
  {
   "cell_type": "code",
   "execution_count": 83,
   "metadata": {
    "collapsed": false
   },
   "outputs": [
    {
     "data": {
      "text/plain": [
       "48"
      ]
     },
     "execution_count": 83,
     "metadata": {},
     "output_type": "execute_result"
    }
   ],
   "source": [
    "sos.popAt(0)"
   ]
  },
  {
   "cell_type": "code",
   "execution_count": null,
   "metadata": {
    "collapsed": false
   },
   "outputs": [],
   "source": []
  }
 ],
 "metadata": {
  "kernelspec": {
   "display_name": "Python 3",
   "language": "python",
   "name": "python3"
  },
  "language_info": {
   "codemirror_mode": {
    "name": "ipython",
    "version": 3
   },
   "file_extension": ".py",
   "mimetype": "text/x-python",
   "name": "python",
   "nbconvert_exporter": "python",
   "pygments_lexer": "ipython3",
   "version": "3.5.1"
  }
 },
 "nbformat": 4,
 "nbformat_minor": 0
}
