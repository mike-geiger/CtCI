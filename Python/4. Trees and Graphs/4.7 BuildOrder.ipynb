{
 "cells": [
  {
   "cell_type": "code",
   "execution_count": 1,
   "metadata": {
    "collapsed": true
   },
   "outputs": [],
   "source": [
    "class GraphNode(object):\n",
    "    def __init__(self, payload):\n",
    "        self.payload=payload\n",
    "        self.adjacent = []\n",
    "        self.state = \"NotBuilt\"\n",
    "class Graph(object):\n",
    "    def __init__(self, vertices = None):\n",
    "        self.vertices = []\n",
    "        if vertices:\n",
    "            for i in vertices:\n",
    "                self.vertices.append(GraphNode(i))\n",
    "    def getNode(self, payload):\n",
    "        for v in self.vertices if v.payload == payload:\n",
    "            return v\n",
    "        return None"
   ]
  },
  {
   "cell_type": "code",
   "execution_count": 19,
   "metadata": {
    "collapsed": false
   },
   "outputs": [],
   "source": [
    "def Build(node):\n",
    "    if str(node.state) == \"Building\":\n",
    "        raise Exception(\"Circular dependency\")\n",
    "    if str(node.state) == \"Complete\":\n",
    "        return ''\n",
    "    order = ''\n",
    "    \n",
    "    print(node.state)\n",
    "    node.state = \"Building\"\n",
    "    \n",
    "    for project in node.adjacent:\n",
    "        order = order + Build(project)\n",
    "    \n",
    "    node.state = 'Complete'\n",
    "    return order + '->' + str(node.payload)\n",
    "\n",
    "def BuildProjects(projects, dependencies):\n",
    "    g = Graph(projects)\n",
    "    for proj in g.vertices:\n",
    "        for dependency in [dep for project, dep in dependencies if proj.payload == project]:\n",
    "            for depProject in [p for p in g.vertices if p.payload == dependency]:\n",
    "                proj.adjacent.append(depProject)\n",
    "    order = ''\n",
    "    for project in g.vertices:\n",
    "        order = order + Build(project) \n",
    "    return order\n",
    "        "
   ]
  },
  {
   "cell_type": "code",
   "execution_count": 20,
   "metadata": {
    "collapsed": false
   },
   "outputs": [
    {
     "name": "stdout",
     "output_type": "stream",
     "text": [
      "NotBuilt\n",
      "NotBuilt\n",
      "NotBuilt\n",
      "NotBuilt\n",
      "NotBuilt\n",
      "NotBuilt\n"
     ]
    },
    {
     "data": {
      "text/plain": [
       "'->f->a->b->d->c->e'"
      ]
     },
     "execution_count": 20,
     "metadata": {},
     "output_type": "execute_result"
    }
   ],
   "source": [
    "BuildProjects(['a','b','c','d','e','f'], [('d','a'),('b','f'),('d','b'),('a','f'),('c','d')])"
   ]
  },
  {
   "cell_type": "code",
   "execution_count": null,
   "metadata": {
    "collapsed": true
   },
   "outputs": [],
   "source": []
  }
 ],
 "metadata": {
  "kernelspec": {
   "display_name": "Python 3",
   "language": "python",
   "name": "python3"
  },
  "language_info": {
   "codemirror_mode": {
    "name": "ipython",
    "version": 3
   },
   "file_extension": ".py",
   "mimetype": "text/x-python",
   "name": "python",
   "nbconvert_exporter": "python",
   "pygments_lexer": "ipython3",
   "version": "3.5.1"
  }
 },
 "nbformat": 4,
 "nbformat_minor": 0
}
