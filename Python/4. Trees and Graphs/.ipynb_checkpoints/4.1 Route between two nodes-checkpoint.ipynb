{
 "cells": [
  {
   "cell_type": "code",
   "execution_count": 18,
   "metadata": {
    "collapsed": true
   },
   "outputs": [],
   "source": [
    "class Graph(object):\n",
    "    def __init__(self):\n",
    "        self.vertices = []\n",
    "    def addNode(self, x):\n",
    "        self.vertices.append(x)\n",
    "    def getNodes(self):\n",
    "        return self.vertices\n",
    "    def __iter__(self):\n",
    "        return iter(self.vertices)\n",
    "    def __contains__(self, x):\n",
    "        return x in self.vertices\n",
    "    def __getitem__(self, x):\n",
    "        return self.vertices[x]\n",
    "\n",
    "class Node(object):\n",
    "    def __init__(self, vertex):\n",
    "        self.adjacent = []\n",
    "        self.vertex = vertex\n",
    "        self.visited = False\n",
    "    def addAdjacent(self, node):\n",
    "        self.adjacent.append(node)\n",
    "    def getAdjacent(self):\n",
    "        return self.adjacent\n",
    "    def getVertex(self):\n",
    "        return self.vertex\n",
    "    def visit(self):\n",
    "        self.visited = True\n",
    "        return self\n",
    "    def isVisited(self):\n",
    "        return self.visited"
   ]
  },
  {
   "cell_type": "code",
   "execution_count": 27,
   "metadata": {
    "collapsed": false
   },
   "outputs": [],
   "source": [
    "def routeBetweenNodes(g, n1, n2):\n",
    "    for n in g:\n",
    "        if n.isVisited():\n",
    "            n.visited=False\n",
    "    queue = [n1]\n",
    "    n1.visit()\n",
    "    while queue:\n",
    "        current = queue.pop(0)\n",
    "        if current == n2:\n",
    "            return True\n",
    "        queue.extend( [n.visit() for n in current.getAdjacent() if not n.isVisited()])\n",
    "    return False\n"
   ]
  },
  {
   "cell_type": "code",
   "execution_count": 11,
   "metadata": {
    "collapsed": true
   },
   "outputs": [],
   "source": [
    "def createNewGraphWithLoop():\n",
    "    g = Graph()\n",
    "    sizegraph = 6\n",
    "    temp = [0] * sizegraph\n",
    "\n",
    "    temp[0] = Node(\"a\")\n",
    "    temp[1] = Node(\"b\")\n",
    "    temp[2] = Node(\"c\")\n",
    "    temp[3] = Node(\"d\")\n",
    "    temp[4] = Node(\"e\")\n",
    "    temp[5] = Node(\"f\")\n",
    "    \n",
    "    temp[0].addAdjacent(temp[1])\n",
    "    temp[1].addAdjacent(temp[2])\n",
    "    temp[2].addAdjacent(temp[3])\n",
    "    temp[3].addAdjacent(temp[4])\n",
    "    temp[4].addAdjacent(temp[1])\n",
    "    temp[4].addAdjacent(temp[5])\n",
    "\n",
    "    for i in range(sizegraph):\n",
    "        g.addNode(temp[i])\n",
    "    return g\n"
   ]
  },
  {
   "cell_type": "code",
   "execution_count": 20,
   "metadata": {
    "collapsed": true
   },
   "outputs": [],
   "source": [
    "g = createNewGraphWithLoop()"
   ]
  },
  {
   "cell_type": "code",
   "execution_count": 21,
   "metadata": {
    "collapsed": false
   },
   "outputs": [],
   "source": [
    "n1 = g[0]"
   ]
  },
  {
   "cell_type": "code",
   "execution_count": 22,
   "metadata": {
    "collapsed": true
   },
   "outputs": [],
   "source": [
    "n2 = g[4]\n"
   ]
  },
  {
   "cell_type": "code",
   "execution_count": 39,
   "metadata": {
    "collapsed": false
   },
   "outputs": [
    {
     "data": {
      "text/plain": [
       "True"
      ]
     },
     "execution_count": 39,
     "metadata": {},
     "output_type": "execute_result"
    }
   ],
   "source": [
    "routeBetweenNodes(g, n1, n2)"
   ]
  },
  {
   "cell_type": "code",
   "execution_count": 24,
   "metadata": {
    "collapsed": false
   },
   "outputs": [
    {
     "data": {
      "text/plain": [
       "False"
      ]
     },
     "execution_count": 24,
     "metadata": {},
     "output_type": "execute_result"
    }
   ],
   "source": [
    "routeBetweenNodes(g, n2, n1)"
   ]
  }
 ],
 "metadata": {
  "kernelspec": {
   "display_name": "Python 3",
   "language": "python",
   "name": "python3"
  },
  "language_info": {
   "codemirror_mode": {
    "name": "ipython",
    "version": 3
   },
   "file_extension": ".py",
   "mimetype": "text/x-python",
   "name": "python",
   "nbconvert_exporter": "python",
   "pygments_lexer": "ipython3",
   "version": "3.5.1"
  }
 },
 "nbformat": 4,
 "nbformat_minor": 0
}
