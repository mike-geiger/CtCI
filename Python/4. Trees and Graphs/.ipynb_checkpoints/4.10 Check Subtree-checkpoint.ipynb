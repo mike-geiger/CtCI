{
 "cells": [
  {
   "cell_type": "code",
   "execution_count": 1,
   "metadata": {
    "collapsed": true
   },
   "outputs": [],
   "source": [
    "class Node(object):\n",
    "    def __init__(self, data):\n",
    "        self.data = data\n",
    "        self.right = None\n",
    "        self.left = None"
   ]
  },
  {
   "cell_type": "code",
   "execution_count": 7,
   "metadata": {
    "collapsed": true
   },
   "outputs": [],
   "source": [
    "def containsTree(bigTree, littleTree):\n",
    "    if littleTree is None:\n",
    "        return True\n",
    "    return subTree(bigTree, littleTree)\n",
    "\n",
    "def subTree(r1, r2):\n",
    "    if r1 is None:\n",
    "        return False\n",
    "    \n",
    "    if r1.data == r2.data:\n",
    "        if isMatch(r1, r2):\n",
    "            return True\n",
    "    \n",
    "    if subTree(r1.left, r2):\n",
    "        return True\n",
    "    if subTree(r1.right, r2):\n",
    "        return True\n",
    "    \n",
    "    return False\n",
    "\n",
    "def isMatch(r1,r2):\n",
    "    if r1 is None and r2 is None:\n",
    "        return True\n",
    "    if r1 is None or r2 is None:\n",
    "        return False\n",
    "    \n",
    "    if r1.data != r2.data:\n",
    "        return False\n",
    "    \n",
    "    return isMatch(r1.left, r2.left) and isMatch(r1.right, r2.right)"
   ]
  },
  {
   "cell_type": "code",
   "execution_count": 3,
   "metadata": {
    "collapsed": true
   },
   "outputs": [],
   "source": [
    "root = Node(2)\n",
    "root.left = Node(1)\n",
    "root.right = Node(3)\n"
   ]
  },
  {
   "cell_type": "code",
   "execution_count": 4,
   "metadata": {
    "collapsed": true
   },
   "outputs": [],
   "source": [
    "fifty = Node(50)\n",
    "twenty = Node(20)\n",
    "sixty = Node(60)\n",
    "ten = Node(10)\n",
    "twenty5 = Node(25)\n",
    "seventy = Node(70)\n",
    "five = Node(5)\n",
    "fifteen = Node(15)\n",
    "sixty5 = Node(65)\n",
    "eighty=Node(80)\n",
    "fifty.left = twenty\n",
    "fifty.right = sixty\n",
    "twenty.left = ten\n",
    "twenty.right = twenty5\n",
    "sixty.right = seventy\n",
    "ten.left = five\n",
    "ten.right = fifteen\n",
    "seventy.left = sixty5\n",
    "seventy.right = eighty"
   ]
  },
  {
   "cell_type": "code",
   "execution_count": 10,
   "metadata": {
    "collapsed": false
   },
   "outputs": [
    {
     "data": {
      "text/plain": [
       "False"
      ]
     },
     "execution_count": 10,
     "metadata": {},
     "output_type": "execute_result"
    }
   ],
   "source": [
    "containsTree(fifty, root)"
   ]
  },
  {
   "cell_type": "code",
   "execution_count": null,
   "metadata": {
    "collapsed": true
   },
   "outputs": [],
   "source": []
  }
 ],
 "metadata": {
  "kernelspec": {
   "display_name": "Python 3",
   "language": "python",
   "name": "python3"
  },
  "language_info": {
   "codemirror_mode": {
    "name": "ipython",
    "version": 3
   },
   "file_extension": ".py",
   "mimetype": "text/x-python",
   "name": "python",
   "nbconvert_exporter": "python",
   "pygments_lexer": "ipython3",
   "version": "3.5.1"
  }
 },
 "nbformat": 4,
 "nbformat_minor": 0
}
