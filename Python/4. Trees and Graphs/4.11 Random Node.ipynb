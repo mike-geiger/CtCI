{
 "cells": [
  {
   "cell_type": "code",
   "execution_count": 188,
   "metadata": {
    "collapsed": false
   },
   "outputs": [],
   "source": [
    "import random\n",
    "class Tree(object):\n",
    "    \n",
    "        \n",
    "        \n",
    "    def __init__(self, rootData = None):\n",
    "        if  rootData:\n",
    "            self.root = TreeNode(rootData)\n",
    "        else:\n",
    "            self.root = None\n",
    "    \n",
    "    def size(self):\n",
    "        if self.root is None:\n",
    "            return 0\n",
    "        return self.root.size\n",
    "    \n",
    "    def insertInOrder(self, value):\n",
    "        if self.root is None:\n",
    "            self.root = TreeNode(value)\n",
    "        else:\n",
    "            self.root.insertInOrder(value)\n",
    "    def getRandomNode(self):\n",
    "        if self.root is None:\n",
    "            return None\n",
    "        loc = random.randint(0, self.size()-1);\n",
    "        return self.root.getIthNode(loc)\n",
    "    \n",
    "    def find(self, data):\n",
    "        if self.root is None :\n",
    "            return None\n",
    "        return self.root.find(data)\n",
    "        \n",
    "class TreeNode(object):\n",
    "    def __init__(self, data):\n",
    "        self.size = 1\n",
    "        self.data = data\n",
    "        self.left = None\n",
    "        self.right = None\n",
    "        \n",
    "    def find(self, data):\n",
    "        if self.data == data:\n",
    "            return self\n",
    "        \n",
    "        if self.data >= data:\n",
    "            if self.left is None:\n",
    "                return None\n",
    "            return self.left.find(data)\n",
    "        else:\n",
    "            if self.right is None:\n",
    "                return None\n",
    "            return self.right.find(data)\n",
    "            \n",
    "    def insertInOrder(self, data):\n",
    "        if self.data >= data:\n",
    "            if self.left is None:\n",
    "                self.left = TreeNode(data)\n",
    "            else:\n",
    "                #print ('{} at {} going left'.format(i, self.data))\n",
    "                self.left.insertInOrder(data)\n",
    "        else:\n",
    "            if self.right is None:\n",
    "                self.right = TreeNode(data)\n",
    "            else:\n",
    "                #print ('{} at {} going right'.format(i, self.data))\n",
    "                self.right.insertInOrder(data)\n",
    "        self.size += 1\n",
    "        \n",
    "    def getIthNode(self, i):\n",
    "        leftsize = 0\n",
    "        if self.left:\n",
    "            leftsize = self.left.size\n",
    "\n",
    "        if i < leftsize:\n",
    "            return self.left.getIthNode(i)\n",
    "        if i == leftsize:\n",
    "            return self\n",
    "        return self.right.getIthNode(i-(leftsize + 1))\n",
    "        \n",
    "    \n",
    "        "
   ]
  },
  {
   "cell_type": "code",
   "execution_count": 189,
   "metadata": {
    "collapsed": false
   },
   "outputs": [],
   "source": [
    "t= Tree()\n",
    "\n",
    "for i in range(100):\n",
    "    t.insertInOrder(random.randint(0,10000))"
   ]
  },
  {
   "cell_type": "code",
   "execution_count": 190,
   "metadata": {
    "collapsed": false
   },
   "outputs": [],
   "source": [
    "\n",
    "    t.getRandomNode().data"
   ]
  },
  {
   "cell_type": "code",
   "execution_count": null,
   "metadata": {
    "collapsed": true
   },
   "outputs": [],
   "source": []
  }
 ],
 "metadata": {
  "kernelspec": {
   "display_name": "Python 3",
   "language": "python",
   "name": "python3"
  },
  "language_info": {
   "codemirror_mode": {
    "name": "ipython",
    "version": 3
   },
   "file_extension": ".py",
   "mimetype": "text/x-python",
   "name": "python",
   "nbconvert_exporter": "python",
   "pygments_lexer": "ipython3",
   "version": "3.5.1"
  }
 },
 "nbformat": 4,
 "nbformat_minor": 0
}
