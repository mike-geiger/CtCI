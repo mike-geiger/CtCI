{
 "cells": [
  {
   "cell_type": "code",
   "execution_count": 1,
   "metadata": {
    "collapsed": true
   },
   "outputs": [],
   "source": [
    "class TreeNode(object):\n",
    "    def __init__(self,data):\n",
    "        self.data = data\n",
    "        self.left = None\n",
    "        self.right = None"
   ]
  },
  {
   "cell_type": "code",
   "execution_count": 7,
   "metadata": {
    "collapsed": false
   },
   "outputs": [],
   "source": [
    "from collections import defaultdict\n",
    "def pathsWithSum(root, targetSum, runningSum = None, sumsSeen=None):\n",
    "    if root is None:\n",
    "        return 0\n",
    "    if sumsSeen is None:\n",
    "        sumsSeen = defaultdict(0)\n",
    "    if runningSum is None:\n",
    "        runningSum = 0\n",
    "    \n",
    "    runningSum += root.data\n",
    "    diff = runningSum - targetSum\n",
    "    totalPaths = sumsSeen[diff]\n",
    "    \n",
    "    if runningSum == targetSum:\n",
    "        totalPaths += 1\n",
    "        \n",
    "    sumsSeen[runningSum] += 1\n",
    "    \n",
    "    totalPaths += pathsWithSum(root.left, targetSum, runningSum, sumsSeen)\n",
    "    totalPaths += pathsWithSum(root.right, targetSum, runningSum, sumsSeen)\n",
    "    \n",
    "    sumsSeen[runningSum] -= 1\n",
    "    \n",
    "    return totalPaths\n",
    "    "
   ]
  },
  {
   "cell_type": "code",
   "execution_count": null,
   "metadata": {
    "collapsed": true
   },
   "outputs": [],
   "source": []
  }
 ],
 "metadata": {
  "kernelspec": {
   "display_name": "Python 3",
   "language": "python",
   "name": "python3"
  },
  "language_info": {
   "codemirror_mode": {
    "name": "ipython",
    "version": 3
   },
   "file_extension": ".py",
   "mimetype": "text/x-python",
   "name": "python",
   "nbconvert_exporter": "python",
   "pygments_lexer": "ipython3",
   "version": "3.5.1"
  }
 },
 "nbformat": 4,
 "nbformat_minor": 0
}
