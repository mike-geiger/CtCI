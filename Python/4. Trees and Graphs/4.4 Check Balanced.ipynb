{
 "cells": [
  {
   "cell_type": "code",
   "execution_count": 5,
   "metadata": {
    "collapsed": true
   },
   "outputs": [],
   "source": [
    "class SearchResult(object):\n",
    "    def __init__(self, maxDepth, minDepth):\n",
    "        self.maxDepth = maxDepth\n",
    "        self.minDepth = minDepth\n",
    "        \n",
    "class Node(object):\n",
    "    def __init__(self, data):\n",
    "        self.data=data\n",
    "        self.left = None\n",
    "        self.right = None"
   ]
  },
  {
   "cell_type": "code",
   "execution_count": 6,
   "metadata": {
    "collapsed": true
   },
   "outputs": [],
   "source": [
    "def checkBalanced(root, depth = None):\n",
    "    if depth is None:\n",
    "        result = checkBalanced(root, 1)\n",
    "        return result.maxDepth - result.minDepth < 2\n",
    "    if root is None:\n",
    "        return SearchResult(depth, depth)\n",
    "    lRes = checkBalanced(root.left, depth +1)\n",
    "    rRes = checkBalanced(root.right, depth +1)\n",
    "    \n",
    "    return SearchResult(max(lRes.maxDepth, rRes.maxDepth), min (lRes.minDepth, rRes.minDepth))"
   ]
  },
  {
   "cell_type": "code",
   "execution_count": 17,
   "metadata": {
    "collapsed": true
   },
   "outputs": [],
   "source": [
    "root = Node('a')\n",
    "root.left = Node('b')\n",
    "root.left.left = Node('c')"
   ]
  },
  {
   "cell_type": "code",
   "execution_count": 12,
   "metadata": {
    "collapsed": false
   },
   "outputs": [
    {
     "data": {
      "text/plain": [
       "True"
      ]
     },
     "execution_count": 12,
     "metadata": {},
     "output_type": "execute_result"
    }
   ],
   "source": [
    "checkBalanced(root)"
   ]
  },
  {
   "cell_type": "code",
   "execution_count": 21,
   "metadata": {
    "collapsed": true
   },
   "outputs": [],
   "source": [
    "root.right=Node('d')"
   ]
  },
  {
   "cell_type": "code",
   "execution_count": 19,
   "metadata": {
    "collapsed": false
   },
   "outputs": [],
   "source": [
    "\n",
    "def checkHeight(root):\n",
    "    if root is None:\n",
    "        return 0\n",
    "    leftHeight = checkHeight(root.left)\n",
    "    if leftHeight < 0:\n",
    "        return - 1\n",
    "    \n",
    "    rightHeight =  checkHeight(root.right)\n",
    "    if rightHeight < 0:\n",
    "        return - 1\n",
    "    \n",
    "    if abs(rightHeight - leftHeight) > 1:\n",
    "        return -1\n",
    "    return max(rightHeight, leftHeight) +1\n",
    "\n",
    "def checkBal(root):\n",
    "    return checkHeight(root) >=0"
   ]
  },
  {
   "cell_type": "code",
   "execution_count": 22,
   "metadata": {
    "collapsed": false
   },
   "outputs": [
    {
     "data": {
      "text/plain": [
       "True"
      ]
     },
     "execution_count": 22,
     "metadata": {},
     "output_type": "execute_result"
    }
   ],
   "source": [
    "checkBal(root)"
   ]
  },
  {
   "cell_type": "code",
   "execution_count": null,
   "metadata": {
    "collapsed": true
   },
   "outputs": [],
   "source": []
  }
 ],
 "metadata": {
  "kernelspec": {
   "display_name": "Python 3",
   "language": "python",
   "name": "python3"
  },
  "language_info": {
   "codemirror_mode": {
    "name": "ipython",
    "version": 3
   },
   "file_extension": ".py",
   "mimetype": "text/x-python",
   "name": "python",
   "nbconvert_exporter": "python",
   "pygments_lexer": "ipython3",
   "version": "3.5.1"
  }
 },
 "nbformat": 4,
 "nbformat_minor": 0
}
