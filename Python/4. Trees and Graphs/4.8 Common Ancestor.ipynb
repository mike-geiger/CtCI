{
 "cells": [
  {
   "cell_type": "code",
   "execution_count": 1,
   "metadata": {
    "collapsed": true
   },
   "outputs": [],
   "source": [
    "class Node (object):\n",
    "    def __init__(self, payload, parent = None):\n",
    "        self.payload = payload\n",
    "        self.parent = parent\n",
    "        self.left = None\n",
    "        self.right = None"
   ]
  },
  {
   "cell_type": "code",
   "execution_count": 2,
   "metadata": {
    "collapsed": true
   },
   "outputs": [],
   "source": [
    "def findCommonAncestor(n1,n2):\n",
    "    d1 = 0\n",
    "    d2 = 0\n",
    "    curr = n1\n",
    "    while curr:\n",
    "        d1 += 1\n",
    "        curr = curr.parent\n",
    "    curr = n2\n",
    "    while curr:\n",
    "        d2 += 1\n",
    "        curr = curr.parent\n",
    "    \n",
    "    if d1>d2:\n",
    "        for i in range(d1-d2):\n",
    "            n1 = n1.parent\n",
    "    else:\n",
    "        for i in range(d2-d1):\n",
    "            n2 = n2.parent\n",
    "    \n",
    "    while n1 and n2 and n1 != n2:\n",
    "        n1 = n1.parent\n",
    "        n2 = n2.parent\n",
    "    return n1"
   ]
  },
  {
   "cell_type": "code",
   "execution_count": 3,
   "metadata": {
    "collapsed": true
   },
   "outputs": [],
   "source": [
    "root = Node(1)\n",
    "a1 = Node(2, root)\n",
    "root.left = a1\n",
    "a2 = Node(3, root)\n",
    "root.right = a2\n",
    "b1 = Node(4, a1)\n",
    "a1.left = b1\n",
    "b2 = Node(5,a1)\n",
    "a1.right = b2\n",
    "b3 = Node(6,a2)\n",
    "a2.left = b3\n",
    "b4 = Node(7,a2)\n",
    "a2.right = b4"
   ]
  },
  {
   "cell_type": "code",
   "execution_count": 6,
   "metadata": {
    "collapsed": false
   },
   "outputs": [
    {
     "data": {
      "text/plain": [
       "1"
      ]
     },
     "execution_count": 6,
     "metadata": {},
     "output_type": "execute_result"
    }
   ],
   "source": [
    "findCommonAncestor(b1,b4).payload"
   ]
  },
  {
   "cell_type": "code",
   "execution_count": 18,
   "metadata": {
    "collapsed": true
   },
   "outputs": [],
   "source": [
    "class Result(object):\n",
    "    def __init__(self,node, commonAncestor):\n",
    "        self.node = node\n",
    "        self.commonAncestor = commonAncestor\n",
    "        \n",
    "def commonAncestor(root, n1, n2):\n",
    "    if root is None:\n",
    "        return None\n",
    "    left = commonAncestor(root.left, n1, n2)\n",
    "    if left and left.commonAncestor:\n",
    "        return left\n",
    "    right = commonAncestor(root.right, n1, n2)\n",
    "    if right and right.commonAncestor:\n",
    "        return right\n",
    "    if left and right:\n",
    "        return Result(root, True)\n",
    "    if root in [n1,n2]:\n",
    "        if right or left:\n",
    "            return Result(root,True)\n",
    "        return Result(root, False)\n",
    "    if left:\n",
    "        return left\n",
    "    return right"
   ]
  },
  {
   "cell_type": "code",
   "execution_count": 19,
   "metadata": {
    "collapsed": false
   },
   "outputs": [
    {
     "data": {
      "text/plain": [
       "1"
      ]
     },
     "execution_count": 19,
     "metadata": {},
     "output_type": "execute_result"
    }
   ],
   "source": [
    "commonAncestor(root,b1,b4).node.payload"
   ]
  },
  {
   "cell_type": "code",
   "execution_count": null,
   "metadata": {
    "collapsed": true
   },
   "outputs": [],
   "source": []
  }
 ],
 "metadata": {
  "kernelspec": {
   "display_name": "Python 3",
   "language": "python",
   "name": "python3"
  },
  "language_info": {
   "codemirror_mode": {
    "name": "ipython",
    "version": 3
   },
   "file_extension": ".py",
   "mimetype": "text/x-python",
   "name": "python",
   "nbconvert_exporter": "python",
   "pygments_lexer": "ipython3",
   "version": "3.5.1"
  }
 },
 "nbformat": 4,
 "nbformat_minor": 0
}
