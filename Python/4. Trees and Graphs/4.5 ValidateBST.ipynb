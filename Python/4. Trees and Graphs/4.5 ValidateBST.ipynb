{
 "cells": [
  {
   "cell_type": "code",
   "execution_count": 1,
   "metadata": {
    "collapsed": true
   },
   "outputs": [],
   "source": [
    "class BinaryNode(object):\n",
    "    def __init__(self, data):\n",
    "        self.data = data\n",
    "        self.left = None\n",
    "        self.right = None"
   ]
  },
  {
   "cell_type": "code",
   "execution_count": 16,
   "metadata": {
    "collapsed": false
   },
   "outputs": [],
   "source": [
    "\n",
    "def validateBST(root, testMax = None, testMin=None):\n",
    "    if root is None:\n",
    "        return True\n",
    "    if testMax:\n",
    "        if root.data >= testMax:\n",
    "            return False\n",
    "    if testMin:\n",
    "        if root.data < testMin:\n",
    "            return False\n",
    "    return validateBST(root.right, testMax, root.data) and validateBST(root.left, root.data, testMin)"
   ]
  },
  {
   "cell_type": "code",
   "execution_count": 17,
   "metadata": {
    "collapsed": false
   },
   "outputs": [
    {
     "data": {
      "text/plain": [
       "False"
      ]
     },
     "execution_count": 17,
     "metadata": {},
     "output_type": "execute_result"
    }
   ],
   "source": [
    "root = BinaryNode(5)\n",
    "root.left=BinaryNode(3)\n",
    "root.left.left = BinaryNode(2)\n",
    "root.left.right = BinaryNode(4)\n",
    "root.right = BinaryNode(8)\n",
    "root.right.right = BinaryNode(1)\n",
    "validateBST(root)"
   ]
  },
  {
   "cell_type": "code",
   "execution_count": 18,
   "metadata": {
    "collapsed": false
   },
   "outputs": [
    {
     "data": {
      "text/plain": [
       "True"
      ]
     },
     "execution_count": 18,
     "metadata": {},
     "output_type": "execute_result"
    }
   ],
   "source": [
    "root = BinaryNode(5)\n",
    "root.left=BinaryNode(3)\n",
    "root.left.left = BinaryNode(2)\n",
    "root.left.right = BinaryNode(4)\n",
    "root.right = BinaryNode(8)\n",
    "validateBST(root)"
   ]
  },
  {
   "cell_type": "code",
   "execution_count": 19,
   "metadata": {
    "collapsed": false
   },
   "outputs": [
    {
     "data": {
      "text/plain": [
       "False"
      ]
     },
     "execution_count": 19,
     "metadata": {},
     "output_type": "execute_result"
    }
   ],
   "source": [
    "root = BinaryNode(5)\n",
    "root.left=BinaryNode(3)\n",
    "root.left.left = BinaryNode(2)\n",
    "root.left.right = BinaryNode(4)\n",
    "root.right = BinaryNode(8)\n",
    "root.right.left = BinaryNode(1)\n",
    "validateBST(root)"
   ]
  },
  {
   "cell_type": "code",
   "execution_count": null,
   "metadata": {
    "collapsed": true
   },
   "outputs": [],
   "source": []
  }
 ],
 "metadata": {
  "kernelspec": {
   "display_name": "Python 3",
   "language": "python",
   "name": "python3"
  },
  "language_info": {
   "codemirror_mode": {
    "name": "ipython",
    "version": 3
   },
   "file_extension": ".py",
   "mimetype": "text/x-python",
   "name": "python",
   "nbconvert_exporter": "python",
   "pygments_lexer": "ipython3",
   "version": "3.5.1"
  }
 },
 "nbformat": 4,
 "nbformat_minor": 0
}
