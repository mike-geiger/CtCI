{
 "cells": [
  {
   "cell_type": "code",
   "execution_count": 30,
   "metadata": {
    "collapsed": true
   },
   "outputs": [],
   "source": [
    "class TreeNode(object):\n",
    "    def __init__(self, data):\n",
    "        self.data = data\n",
    "        self.left = None\n",
    "        self.right = None\n",
    "    def __str__(self):\n",
    "        return str(self.data)"
   ]
  },
  {
   "cell_type": "code",
   "execution_count": 31,
   "metadata": {
    "collapsed": true
   },
   "outputs": [],
   "source": [
    "class LinkedListNode(object):\n",
    "    def __init__(self, data):\n",
    "        self.data = data\n",
    "        self.next = None\n",
    "    \n",
    "    def __str__(self):\n",
    "        return str(self.data)\n",
    "class LinkedList(object):\n",
    "    def __init__(self):\n",
    "        self.head = self.tail = None\n",
    "    \n",
    "    def add(self, data):\n",
    "        if not self.head:\n",
    "            self.head = self.tail = LinkedListNode(data)\n",
    "        else:\n",
    "            self.tail.next = LinkedListNode(data)\n",
    "            self.tail = self.tail.next\n",
    "        return self.tail\n",
    "\n",
    "    def __iter__(self):\n",
    "        current = self.head\n",
    "        while current:\n",
    "            yield current\n",
    "            current = current.next\n",
    "\n",
    "    def __str__(self):\n",
    "        values = [str(x) for x in self]\n",
    "        return ' -> '.join(values)\n",
    "\n",
    "    def __len__(self):\n",
    "        result = 0\n",
    "        node = self.head\n",
    "        while node:\n",
    "            result += 1\n",
    "            node = node.next\n",
    "        return result"
   ]
  },
  {
   "cell_type": "code",
   "execution_count": 32,
   "metadata": {
    "collapsed": true
   },
   "outputs": [],
   "source": [
    "def ListOfDepths(root, depth=None, listOfDepths = None):\n",
    "    if listOfDepths is None:\n",
    "        listOfDepths=[]\n",
    "    if depth is None:\n",
    "        depth = 0\n",
    "    if root is None:\n",
    "        return\n",
    "    if depth > len(listOfDepths) - 1:\n",
    "        listOfDepths.append(LinkedList())\n",
    "    listOfDepths[depth].add(root)\n",
    "    ListOfDepths(root.left, depth +1, listOfDepths)\n",
    "    ListOfDepths(root.right, depth +1, listOfDepths)\n",
    "    return listOfDepths\n",
    "    "
   ]
  },
  {
   "cell_type": "code",
   "execution_count": 41,
   "metadata": {
    "collapsed": true
   },
   "outputs": [],
   "source": [
    "class BstNode(object):\n",
    "    def __init__(self, data):\n",
    "        self.data=data\n",
    "        self.left = None\n",
    "        self.right = None\n",
    "    \n",
    "    def __str__(self):\n",
    "        return str(self.data)\n",
    "\n",
    "def createBST(sortedArray):\n",
    "    if len(sortedArray) == 0:\n",
    "        return None\n",
    "    mid = len(sortedArray)//2\n",
    "    root = BstNode(sortedArray[mid])\n",
    "    root.left = createBST(sortedArray[:mid])\n",
    "    root.right = createBST(sortedArray[mid+1:])\n",
    "    return root\n"
   ]
  },
  {
   "cell_type": "code",
   "execution_count": 42,
   "metadata": {
    "collapsed": false
   },
   "outputs": [],
   "source": [
    "root = createBST([1,2,3,4,5,6,7,8,9,10])"
   ]
  },
  {
   "cell_type": "code",
   "execution_count": 43,
   "metadata": {
    "collapsed": false
   },
   "outputs": [],
   "source": [
    "l=ListOfDepths(root)"
   ]
  },
  {
   "cell_type": "code",
   "execution_count": 44,
   "metadata": {
    "collapsed": false
   },
   "outputs": [
    {
     "name": "stdout",
     "output_type": "stream",
     "text": [
      "6\n",
      "3 -> 9\n",
      "2 -> 5 -> 8 -> 10\n",
      "1 -> 4 -> 7\n"
     ]
    }
   ],
   "source": [
    "for i in l:\n",
    "    print(i)"
   ]
  },
  {
   "cell_type": "code",
   "execution_count": null,
   "metadata": {
    "collapsed": true
   },
   "outputs": [],
   "source": []
  }
 ],
 "metadata": {
  "kernelspec": {
   "display_name": "Python 3",
   "language": "python",
   "name": "python3"
  },
  "language_info": {
   "codemirror_mode": {
    "name": "ipython",
    "version": 3
   },
   "file_extension": ".py",
   "mimetype": "text/x-python",
   "name": "python",
   "nbconvert_exporter": "python",
   "pygments_lexer": "ipython3",
   "version": "3.5.1"
  }
 },
 "nbformat": 4,
 "nbformat_minor": 0
}
