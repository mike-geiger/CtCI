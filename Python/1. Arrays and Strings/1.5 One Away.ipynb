{
 "cells": [
  {
   "cell_type": "code",
   "execution_count": 19,
   "metadata": {
    "collapsed": false
   },
   "outputs": [],
   "source": [
    "def isOneAway(str1, str2):\n",
    "    if abs(len(str1)-len(str2)) > 1:\n",
    "        return False\n",
    "    oneFound = False\n",
    "    i = len(str1)\n",
    "    j = len(str2)\n",
    "    while i >0 and j >0:\n",
    "        i -= 1\n",
    "        j -= 1\n",
    "        if str1[i] != str2[j]:\n",
    "            if oneFound:\n",
    "                return False\n",
    "            oneFound=True\n",
    "            if len(str1) < len(str2):\n",
    "                i += 1\n",
    "            elif len(str2) < len(str1):\n",
    "                j += 1\n",
    "    return True"
   ]
  },
  {
   "cell_type": "code",
   "execution_count": 20,
   "metadata": {
    "collapsed": false
   },
   "outputs": [
    {
     "data": {
      "text/plain": [
       "True"
      ]
     },
     "execution_count": 20,
     "metadata": {},
     "output_type": "execute_result"
    }
   ],
   "source": [
    "isOneAway('aaa', 'aaba')"
   ]
  }
 ],
 "metadata": {
  "kernelspec": {
   "display_name": "Python 3",
   "language": "python",
   "name": "python3"
  },
  "language_info": {
   "codemirror_mode": {
    "name": "ipython",
    "version": 3
   },
   "file_extension": ".py",
   "mimetype": "text/x-python",
   "name": "python",
   "nbconvert_exporter": "python",
   "pygments_lexer": "ipython3",
   "version": "3.5.1"
  }
 },
 "nbformat": 4,
 "nbformat_minor": 0
}
