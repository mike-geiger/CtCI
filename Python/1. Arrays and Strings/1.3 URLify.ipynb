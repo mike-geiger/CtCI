{
 "cells": [
  {
   "cell_type": "code",
   "execution_count": 43,
   "metadata": {
    "collapsed": true
   },
   "outputs": [],
   "source": [
    "def URLify(str1, size):\n",
    "    arr = [None] * len(str1)\n",
    "    for i,ch in enumerate(str1):\n",
    "        arr[i] = ch\n",
    "    num_spaces = 0\n",
    "    for i in range(size):\n",
    "        if arr[i] ==' ':\n",
    "            num_spaces+=1\n",
    "    while num_spaces > 0:\n",
    "        size -= 1\n",
    "        if arr[size] == ' ':\n",
    "            num_spaces -= 1\n",
    "            arr[size+ 2*num_spaces] = '%'\n",
    "            arr[size+1+ 2*num_spaces] = '2'\n",
    "            arr[size+2+ 2*num_spaces] = '0'\n",
    "        else:\n",
    "            arr[size + 2*num_spaces] = arr[size]\n",
    "    return ''.join(arr)"
   ]
  },
  {
   "cell_type": "code",
   "execution_count": 42,
   "metadata": {
    "collapsed": false
   },
   "outputs": [
    {
     "name": "stdout",
     "output_type": "stream",
     "text": [
      "12 2\n",
      "11 2\n",
      "10 2\n",
      "9 2\n",
      "8 2\n",
      "7 2\n",
      "6 1\n",
      "5 1\n",
      "4 1\n",
      "3 1\n",
      "2 1\n"
     ]
    },
    {
     "data": {
      "text/plain": [
       "'Mr%20John%20Smith'"
      ]
     },
     "execution_count": 42,
     "metadata": {},
     "output_type": "execute_result"
    }
   ],
   "source": [
    "URLify('Mr John Smith    ', 13)"
   ]
  },
  {
   "cell_type": "code",
   "execution_count": 28,
   "metadata": {
    "collapsed": false
   },
   "outputs": [
    {
     "data": {
      "text/plain": [
       "17"
      ]
     },
     "execution_count": 28,
     "metadata": {},
     "output_type": "execute_result"
    }
   ],
   "source": [
    "len('Mr John Smith    ')"
   ]
  }
 ],
 "metadata": {
  "kernelspec": {
   "display_name": "Python 3",
   "language": "python",
   "name": "python3"
  },
  "language_info": {
   "codemirror_mode": {
    "name": "ipython",
    "version": 3
   },
   "file_extension": ".py",
   "mimetype": "text/x-python",
   "name": "python",
   "nbconvert_exporter": "python",
   "pygments_lexer": "ipython3",
   "version": "3.5.1"
  }
 },
 "nbformat": 4,
 "nbformat_minor": 0
}
