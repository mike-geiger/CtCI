{
 "cells": [
  {
   "cell_type": "code",
   "execution_count": 8,
   "metadata": {
    "collapsed": true
   },
   "outputs": [],
   "source": [
    "def isPalindromePermutation(str1):\n",
    "    seen = [None] * 26\n",
    "    for ch in str1:\n",
    "        if ch.lower() != ' ':\n",
    "            off = ord(ch.lower())-ord('a')\n",
    "            if seen[off] is None:\n",
    "                seen[off] = 1\n",
    "            else:\n",
    "                seen[off] += 1\n",
    "    odd_found = False\n",
    "    for i in range(26):\n",
    "        if seen[i] is not None and seen[i]%2 == 1:\n",
    "            if odd_found:\n",
    "                return False\n",
    "            odd_found = True\n",
    "    return True"
   ]
  },
  {
   "cell_type": "code",
   "execution_count": 15,
   "metadata": {
    "collapsed": false
   },
   "outputs": [
    {
     "data": {
      "text/plain": [
       "True"
      ]
     },
     "execution_count": 15,
     "metadata": {},
     "output_type": "execute_result"
    }
   ],
   "source": [
    "isPalindromePermutation('tact Coa')"
   ]
  }
 ],
 "metadata": {
  "kernelspec": {
   "display_name": "Python 3",
   "language": "python",
   "name": "python3"
  },
  "language_info": {
   "codemirror_mode": {
    "name": "ipython",
    "version": 3
   },
   "file_extension": ".py",
   "mimetype": "text/x-python",
   "name": "python",
   "nbconvert_exporter": "python",
   "pygments_lexer": "ipython3",
   "version": "3.5.1"
  }
 },
 "nbformat": 4,
 "nbformat_minor": 0
}
