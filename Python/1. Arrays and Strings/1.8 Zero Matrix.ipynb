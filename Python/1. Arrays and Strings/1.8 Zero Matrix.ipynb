{
 "cells": [
  {
   "cell_type": "code",
   "execution_count": 11,
   "metadata": {
    "collapsed": true
   },
   "outputs": [],
   "source": [
    "def zeroMatrix(mat):\n",
    "    n = len(mat)\n",
    "    m = len(mat[0])\n",
    "    \n",
    "    left = False\n",
    "    top = False\n",
    "    for i in range(m):\n",
    "        if mat[0][i] == 0:\n",
    "            left= True\n",
    "            break\n",
    "    for i in range(n):\n",
    "        if mat[i][0] == 0:\n",
    "            top = True\n",
    "            break\n",
    "    for x in range(1,n):\n",
    "        for y in range(1,m):\n",
    "            if mat[x][y] == 0:\n",
    "                mat[x][0] = 0\n",
    "                mat[0][y] = 0\n",
    "    \n",
    "    for x in range(1,n):\n",
    "        if mat[x][0] == 0:\n",
    "            for y in range(1,m):\n",
    "                mat[x][y] = 0\n",
    "    for y in range(1,m):\n",
    "        if mat[0][y] == 0:\n",
    "            for x in range(1,n):\n",
    "                mat[x][y] = 0    \n",
    "                \n",
    "    if top:\n",
    "        for i in range(n):\n",
    "            mat[i][0]=0\n",
    "    if left:\n",
    "        for i in range(m):\n",
    "            mat[0][i]=0"
   ]
  },
  {
   "cell_type": "code",
   "execution_count": 30,
   "metadata": {
    "collapsed": true
   },
   "outputs": [],
   "source": [
    "mat = [[1,1,1,1,1],\n",
    "       [1,1,1,0,1],\n",
    "       [1,1,1,1,1]]"
   ]
  },
  {
   "cell_type": "code",
   "execution_count": 31,
   "metadata": {
    "collapsed": false
   },
   "outputs": [],
   "source": [
    "zeroMatrix(mat)"
   ]
  },
  {
   "cell_type": "code",
   "execution_count": 32,
   "metadata": {
    "collapsed": false
   },
   "outputs": [
    {
     "name": "stdout",
     "output_type": "stream",
     "text": [
      "[1, 1, 1, 0, 1]\n",
      "[0, 0, 0, 0, 0]\n",
      "[1, 1, 1, 0, 1]\n"
     ]
    }
   ],
   "source": [
    "for i in range(len(mat)):\n",
    "    print(mat[i])"
   ]
  },
  {
   "cell_type": "code",
   "execution_count": null,
   "metadata": {
    "collapsed": true
   },
   "outputs": [],
   "source": []
  }
 ],
 "metadata": {
  "kernelspec": {
   "display_name": "Python 3",
   "language": "python",
   "name": "python3"
  },
  "language_info": {
   "codemirror_mode": {
    "name": "ipython",
    "version": 3
   },
   "file_extension": ".py",
   "mimetype": "text/x-python",
   "name": "python",
   "nbconvert_exporter": "python",
   "pygments_lexer": "ipython3",
   "version": "3.5.1"
  }
 },
 "nbformat": 4,
 "nbformat_minor": 0
}
