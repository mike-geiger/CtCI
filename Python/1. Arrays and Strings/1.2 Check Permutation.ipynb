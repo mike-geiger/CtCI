{
 "cells": [
  {
   "cell_type": "code",
   "execution_count": 5,
   "metadata": {
    "collapsed": true
   },
   "outputs": [],
   "source": [
    "def isPermutation(str1, str2):\n",
    "    if len(str1) != len(str2):\n",
    "        return False\n",
    "    seen = {}\n",
    "    for ch in str1:\n",
    "        if ch not in seen:\n",
    "            seen[ch] =0\n",
    "        seen[ch]+=1\n",
    "    for ch in str2:\n",
    "        if ch not in seen or seen[ch]<1:\n",
    "            return False\n",
    "        seen[ch] -=1\n",
    "    return True"
   ]
  },
  {
   "cell_type": "code",
   "execution_count": 7,
   "metadata": {
    "collapsed": false
   },
   "outputs": [
    {
     "data": {
      "text/plain": [
       "False"
      ]
     },
     "execution_count": 7,
     "metadata": {},
     "output_type": "execute_result"
    }
   ],
   "source": [
    "isPermutation('race', 'acae')"
   ]
  }
 ],
 "metadata": {
  "kernelspec": {
   "display_name": "Python 3",
   "language": "python",
   "name": "python3"
  },
  "language_info": {
   "codemirror_mode": {
    "name": "ipython",
    "version": 3
   },
   "file_extension": ".py",
   "mimetype": "text/x-python",
   "name": "python",
   "nbconvert_exporter": "python",
   "pygments_lexer": "ipython3",
   "version": "3.5.1"
  }
 },
 "nbformat": 4,
 "nbformat_minor": 0
}
