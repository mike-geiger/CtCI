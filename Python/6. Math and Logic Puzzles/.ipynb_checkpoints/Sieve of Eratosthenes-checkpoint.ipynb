{
 "cells": [
  {
   "cell_type": "code",
   "execution_count": 4,
   "metadata": {
    "collapsed": false
   },
   "outputs": [],
   "source": [
    "import math\n",
    "def seive(maxNum):\n",
    "    flags = [True] * (maxNum+1)\n",
    "    count = 0\n",
    "    \n",
    "    flags[0] = False\n",
    "    flags[1] = False\n",
    "    \n",
    "    prime = 2\n",
    "    \n",
    "    while prime <= math.sqrt(maxNum):\n",
    "        cross(flags, prime)\n",
    "        prime = getNextPrime(flags, prime)\n",
    "    \n",
    "    return flags\n",
    "\n",
    "def cross(flags, prime):\n",
    "    for i in range(prime*prime, len(flags), prime):\n",
    "        flags[i] = False\n",
    "\n",
    "def getNextPrime(flags, prime):\n",
    "    nextCandidate = prime +1\n",
    "    while nextCandidate < len(flags) and not flags[nextCandidate]:\n",
    "        nextCandidate += 1\n",
    "    return next"
   ]
  },
  {
   "cell_type": "code",
   "execution_count": 2,
   "metadata": {
    "collapsed": true
   },
   "outputs": [],
   "source": []
  }
 ],
 "metadata": {
  "kernelspec": {
   "display_name": "Python 3",
   "language": "python",
   "name": "python3"
  },
  "language_info": {
   "codemirror_mode": {
    "name": "ipython",
    "version": 3
   },
   "file_extension": ".py",
   "mimetype": "text/x-python",
   "name": "python",
   "nbconvert_exporter": "python",
   "pygments_lexer": "ipython3",
   "version": "3.5.1"
  }
 },
 "nbformat": 4,
 "nbformat_minor": 0
}
