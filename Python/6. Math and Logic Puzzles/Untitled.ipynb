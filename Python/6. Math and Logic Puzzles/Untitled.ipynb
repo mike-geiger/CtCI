{
 "cells": [
  {
   "cell_type": "code",
   "execution_count": 1,
   "metadata": {
    "collapsed": false
   },
   "outputs": [
    {
     "name": "stdout",
     "output_type": "stream",
     "text": [
      "0\n",
      "1\n",
      "3\n",
      "6\n",
      "10\n",
      "15\n",
      "21\n",
      "28\n",
      "36\n",
      "45\n",
      "55\n",
      "66\n",
      "78\n",
      "91\n",
      "105\n",
      "120\n",
      "136\n",
      "153\n",
      "171\n",
      "190\n",
      "210\n"
     ]
    }
   ],
   "source": [
    "cum = 0\n",
    "for i in range(21):\n",
    "    cum += i\n",
    "    print (cum)"
   ]
  },
  {
   "cell_type": "code",
   "execution_count": 3,
   "metadata": {
    "collapsed": false
   },
   "outputs": [
    {
     "data": {
      "text/plain": [
       "2"
      ]
     },
     "execution_count": 3,
     "metadata": {},
     "output_type": "execute_result"
    }
   ],
   "source": [
    "int(2.2//1)"
   ]
  },
  {
   "cell_type": "code",
   "execution_count": 7,
   "metadata": {
    "collapsed": false
   },
   "outputs": [
    {
     "name": "stdout",
     "output_type": "stream",
     "text": [
      "4.123105625617661\n",
      "4\n",
      "1\n"
     ]
    }
   ],
   "source": [
    "import math\n",
    "n, k = 17, 24\n",
    "count = 0\n",
    "s = int(math.sqrt(n)//1)\n",
    "print(math.sqrt(n))\n",
    "print(s)\n",
    "while s * s < k:\n",
    "    count += 1\n",
    "    s += 1\n",
    "print(count)"
   ]
  },
  {
   "cell_type": "code",
   "execution_count": null,
   "metadata": {
    "collapsed": true
   },
   "outputs": [],
   "source": [
    "list.index()"
   ]
  },
  {
   "cell_type": "code",
   "execution_count": null,
   "metadata": {
    "collapsed": false
   },
   "outputs": [],
   "source": [
    "\n",
    "import sys\n",
    "import collections\n",
    "\n",
    "\n",
    "\n",
    "\n",
    "t = int(input().strip())\n",
    "for testcase in t:\n",
    "    n,m = input.strip().split(' ')\n",
    "    n,m = int(n), int(m)\n",
    "    \n",
    "    nodes = defaultdict([])\n",
    "    for edge in m:\n",
    "        x, y = input().strip().split(' ')\n",
    "        x,y = int(x,y)\n",
    "        nodes[x].append(y)\n",
    "        nodes[y].append(x)\n",
    "    s = int(input().strip())\n",
    "    distance = [-1] * n\n",
    "    queue = [(s, 0)]\n",
    "    while queue:\n",
    "        node, distanceFromStart = queue.pop(0)\n",
    "        distance[node] = distanceFromStart\n",
    "        queue.extend([(n,distanceFromStart + 6) for n in nodes[node] if node not in distance])\n",
    "    print(' '.join(distance[:n],distance[n+1:]))\n",
    "            "
   ]
  },
  {
   "cell_type": "code",
   "execution_count": 1,
   "metadata": {
    "collapsed": true
   },
   "outputs": [],
   "source": [
    "\n",
    "import sys\n",
    "import collections"
   ]
  },
  {
   "cell_type": "code",
   "execution_count": null,
   "metadata": {
    "collapsed": true
   },
   "outputs": [],
   "source": [
    "collections.defaultdict()"
   ]
  }
 ],
 "metadata": {
  "kernelspec": {
   "display_name": "Python 3",
   "language": "python",
   "name": "python3"
  },
  "language_info": {
   "codemirror_mode": {
    "name": "ipython",
    "version": 3
   },
   "file_extension": ".py",
   "mimetype": "text/x-python",
   "name": "python",
   "nbconvert_exporter": "python",
   "pygments_lexer": "ipython3",
   "version": "3.5.1"
  }
 },
 "nbformat": 4,
 "nbformat_minor": 0
}
